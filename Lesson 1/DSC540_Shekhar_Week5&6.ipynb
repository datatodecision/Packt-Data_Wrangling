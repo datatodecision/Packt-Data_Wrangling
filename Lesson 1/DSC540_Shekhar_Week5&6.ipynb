{
 "cells": [
  {
   "cell_type": "code",
   "execution_count": 1,
   "id": "8d8653f6-017f-48e0-9c15-f8eb5104211c",
   "metadata": {},
   "outputs": [],
   "source": [
    "###################################################################################\n",
    "# Course : Data Preparation\n",
    "# Course code: DSC540\n",
    "# Weeks: 5 and 6\n",
    "# Script name : DSC540_Shekhar_Week5&6.ipynb\n",
    "# Created Date : Apr 10th 2023\n",
    "# Created By : Manish Shekhar\n",
    "###################################################################################"
   ]
  },
  {
   "cell_type": "markdown",
   "id": "c023caa4-1d96-4786-a0e5-25f2a396e53f",
   "metadata": {},
   "source": [
    "## Activity 7: Reading tabular data from a webpage and creating data frames"
   ]
  },
  {
   "cell_type": "markdown",
   "id": "ecc60ed2-5898-49a7-bb8c-82897e5dd76d",
   "metadata": {},
   "source": [
    "### 1. Import BeautifulSoup and load the data"
   ]
  },
  {
   "cell_type": "code",
   "execution_count": 3,
   "id": "e0c87a8b-33e0-4c69-9e06-e6dccfd183de",
   "metadata": {},
   "outputs": [],
   "source": [
    "# importing the needed libraries\n",
    "from bs4 import BeautifulSoup\n",
    "import pandas as pd"
   ]
  },
  {
   "cell_type": "markdown",
   "id": "8d9163c6-390c-484b-9206-b0c6ebe2cb80",
   "metadata": {},
   "source": [
    "### 2. Open the wikipedia file"
   ]
  },
  {
   "cell_type": "code",
   "execution_count": 8,
   "id": "2cb2967c-ea6a-4142-8534-dc00fafd122b",
   "metadata": {},
   "outputs": [],
   "source": [
    "# Opening the wikipedia file, reading it into Beatiful soup object and closing it\n",
    "fd = open(\"List of countries by GDP (nominal) - Wikipedia.htm\", \"r\")\n",
    "soup = BeautifulSoup(fd)\n",
    "fd.close()"
   ]
  },
  {
   "cell_type": "markdown",
   "id": "b6a58e8d-a9d7-418f-ad18-c000c58ba537",
   "metadata": {},
   "source": [
    "### 3. Find all the tables using soup.find_all()"
   ]
  },
  {
   "cell_type": "code",
   "execution_count": 9,
   "id": "1302d4cf-8c76-4966-b26b-6667bc90be03",
   "metadata": {},
   "outputs": [
    {
     "name": "stdout",
     "output_type": "stream",
     "text": [
      "Total number of tables are 9\n"
     ]
    }
   ],
   "source": [
    "# Finding all table in the Beautiful Soup object\n",
    "all_tables = soup.find_all(\"table\")\n",
    "print(\"Total number of tables are {}\".format(len(all_tables)))"
   ]
  },
  {
   "cell_type": "markdown",
   "id": "3b577d84-ab57-4b47-8fe0-ff28a32a894a",
   "metadata": {},
   "source": [
    "### 4. Find the right table by using the class attribute - \"wikitable\""
   ]
  },
  {
   "cell_type": "code",
   "execution_count": 12,
   "id": "33e4d84e-d2b9-4466-8e1e-6b4052bbe525",
   "metadata": {},
   "outputs": [
    {
     "name": "stdout",
     "output_type": "stream",
     "text": [
      "<class 'bs4.element.Tag'>\n"
     ]
    }
   ],
   "source": [
    "# Finding particular table using suip object\n",
    "data_table = soup.find(\"table\",{\"class\": '\"wikitable\"|}'})\n",
    "print(type(data_table))"
   ]
  },
  {
   "cell_type": "markdown",
   "id": "54dbf144-0097-4e2f-82f8-d7ce2cf4ef10",
   "metadata": {},
   "source": [
    "### 5. Separate the source and the actual data"
   ]
  },
  {
   "cell_type": "code",
   "execution_count": 17,
   "id": "757e4ba9-231e-4fc6-b452-deed5a4cff1f",
   "metadata": {},
   "outputs": [
    {
     "name": "stdout",
     "output_type": "stream",
     "text": [
      "The total number of tables =  3\n"
     ]
    }
   ],
   "source": [
    "# separate source and the actual data\n",
    "sources = data_table.tbody.findAll('tr', recursive=False)[0]\n",
    "sources_list = [td for td in sources.findAll('td')]\n",
    "print(\"The total number of tables = \", len(sources_list))"
   ]
  },
  {
   "cell_type": "markdown",
   "id": "b851c34e-58fa-455b-aec9-9348b94b8891",
   "metadata": {},
   "source": [
    "### 6. Use findAll() to find data from the data_table's body tag"
   ]
  },
  {
   "cell_type": "code",
   "execution_count": 21,
   "id": "8fc4c480-0727-4d7e-b7dc-e52f467a572b",
   "metadata": {},
   "outputs": [],
   "source": [
    "# Find data using tbody()\n",
    "data = data_table.tbody.findAll('tr', recursive=False)[1].findAll('td', recursive=False)\n"
   ]
  },
  {
   "cell_type": "markdown",
   "id": "bdd2098b-0784-4be0-8ab9-b6036789bf5c",
   "metadata": {},
   "source": [
    "### 7. Use findAll() to find the data from the data_table td tag"
   ]
  },
  {
   "cell_type": "code",
   "execution_count": 24,
   "id": "2042939d-4a03-4268-93ea-b96cf043c03d",
   "metadata": {},
   "outputs": [],
   "source": [
    "# getting data from data tables\n",
    "data_tables = []\n",
    "for td in data:\n",
    "    data_tables.append(td.findAll(\"table\"))"
   ]
  },
  {
   "cell_type": "markdown",
   "id": "28e7d84a-305e-41b6-a8dd-ce10d85ffca5",
   "metadata": {},
   "source": [
    "### 8. Find the length of data tables"
   ]
  },
  {
   "cell_type": "code",
   "execution_count": 25,
   "id": "dabb689b-f168-4546-b33f-0755d1d5df40",
   "metadata": {},
   "outputs": [
    {
     "data": {
      "text/plain": [
       "3"
      ]
     },
     "execution_count": 25,
     "metadata": {},
     "output_type": "execute_result"
    }
   ],
   "source": [
    "# how many tables\n",
    "len(data_tables)"
   ]
  },
  {
   "cell_type": "markdown",
   "id": "74bbd380-581f-4adb-8ed0-62fb8841943d",
   "metadata": {},
   "source": [
    "### 9. Check how to get the source names"
   ]
  },
  {
   "cell_type": "code",
   "execution_count": 27,
   "id": "d75366b9-8e50-4e07-9aa0-98e50016e173",
   "metadata": {},
   "outputs": [
    {
     "name": "stdout",
     "output_type": "stream",
     "text": [
      "['International Monetary Fund', 'World Bank', 'United Nations']\n"
     ]
    }
   ],
   "source": [
    "# Finding all source names\n",
    "source_names = [source.findAll('a')[0].getText() for source in sources_list]\n",
    "print(source_names)"
   ]
  },
  {
   "cell_type": "markdown",
   "id": "3101cfd6-9f90-405e-a321-3af64312e577",
   "metadata": {},
   "source": [
    "### 10. Separate header and the data from first source"
   ]
  },
  {
   "cell_type": "code",
   "execution_count": 30,
   "id": "69bf951d-7d99-458a-afdf-7fe3b566f805",
   "metadata": {},
   "outputs": [
    {
     "data": {
      "text/plain": [
       "['Rank', 'Country', 'GDP(US$MM)']"
      ]
     },
     "execution_count": 30,
     "metadata": {},
     "output_type": "execute_result"
    }
   ],
   "source": [
    "# Extract the header from the data tables\n",
    "header1 = [th.getText().strip() for th in data_tables[0][0].findAll('thead')[0].findAll('th')]\n",
    "header1"
   ]
  },
  {
   "cell_type": "markdown",
   "id": "9fe1e23e-ac5b-4d12-b61f-fb30d9fa28c7",
   "metadata": {},
   "source": [
    "### 11. Find the rows from data_tables using findAll()"
   ]
  },
  {
   "cell_type": "code",
   "execution_count": 32,
   "id": "233a1309-e065-4d10-97ec-8e509abaa9a6",
   "metadata": {},
   "outputs": [],
   "source": [
    "# get all the rows from the data tables\n",
    "rows1 = data_tables[0][0].findAll('tbody')[0].findAll('tr')[1:]\n"
   ]
  },
  {
   "cell_type": "markdown",
   "id": "61abb849-3ef8-4ebb-96b8-f8d23e189d70",
   "metadata": {},
   "source": [
    "### 12. Find the data from rows1 using the strip() for each td tag"
   ]
  },
  {
   "cell_type": "code",
   "execution_count": 36,
   "id": "19bcf42a-4afa-42fd-aa92-74073918b45d",
   "metadata": {},
   "outputs": [],
   "source": [
    "# Using strip() function to get rid of whitespaces around the string\n",
    "data_rows1 = [[td.get_text().strip() for td in tr.findAll('td')] for tr in rows1]"
   ]
  },
  {
   "cell_type": "markdown",
   "id": "c8179d8a-9f83-4b49-892f-0671deaac598",
   "metadata": {},
   "source": [
    "### 13. Find the dataframe"
   ]
  },
  {
   "cell_type": "code",
   "execution_count": 38,
   "id": "d290b5f6-94dd-4f7d-8fca-04dbda39891e",
   "metadata": {},
   "outputs": [
    {
     "data": {
      "text/html": [
       "<div>\n",
       "<style scoped>\n",
       "    .dataframe tbody tr th:only-of-type {\n",
       "        vertical-align: middle;\n",
       "    }\n",
       "\n",
       "    .dataframe tbody tr th {\n",
       "        vertical-align: top;\n",
       "    }\n",
       "\n",
       "    .dataframe thead th {\n",
       "        text-align: right;\n",
       "    }\n",
       "</style>\n",
       "<table border=\"1\" class=\"dataframe\">\n",
       "  <thead>\n",
       "    <tr style=\"text-align: right;\">\n",
       "      <th></th>\n",
       "      <th>Rank</th>\n",
       "      <th>Country</th>\n",
       "      <th>GDP(US$MM)</th>\n",
       "    </tr>\n",
       "  </thead>\n",
       "  <tbody>\n",
       "    <tr>\n",
       "      <th>0</th>\n",
       "      <td>1</td>\n",
       "      <td>United States</td>\n",
       "      <td>19,390,600</td>\n",
       "    </tr>\n",
       "    <tr>\n",
       "      <th>1</th>\n",
       "      <td>2</td>\n",
       "      <td>China[n 1]</td>\n",
       "      <td>12,014,610</td>\n",
       "    </tr>\n",
       "    <tr>\n",
       "      <th>2</th>\n",
       "      <td>3</td>\n",
       "      <td>Japan</td>\n",
       "      <td>4,872,135</td>\n",
       "    </tr>\n",
       "    <tr>\n",
       "      <th>3</th>\n",
       "      <td>4</td>\n",
       "      <td>Germany</td>\n",
       "      <td>3,684,816</td>\n",
       "    </tr>\n",
       "    <tr>\n",
       "      <th>4</th>\n",
       "      <td>5</td>\n",
       "      <td>United Kingdom</td>\n",
       "      <td>2,624,529</td>\n",
       "    </tr>\n",
       "  </tbody>\n",
       "</table>\n",
       "</div>"
      ],
      "text/plain": [
       "  Rank         Country  GDP(US$MM)\n",
       "0    1   United States  19,390,600\n",
       "1    2      China[n 1]  12,014,610\n",
       "2    3           Japan   4,872,135\n",
       "3    4         Germany   3,684,816\n",
       "4    5  United Kingdom   2,624,529"
      ]
     },
     "execution_count": 38,
     "metadata": {},
     "output_type": "execute_result"
    }
   ],
   "source": [
    "# check the data\n",
    "df1 = pd.DataFrame(data_rows1, columns=header1)\n",
    "df1.head()"
   ]
  },
  {
   "cell_type": "markdown",
   "id": "ab320683-a355-4cb9-b5cb-65da00985bf2",
   "metadata": {},
   "source": [
    "### 14. Do the same to other two sources"
   ]
  },
  {
   "cell_type": "code",
   "execution_count": 39,
   "id": "ee8be1d1-eacd-46c8-82cc-0d86aa63cb7e",
   "metadata": {},
   "outputs": [],
   "source": [
    "# Dig deeper and parse more using findAll()\n",
    "header2 = [th.getText().strip() for th in data_tables[1][0].findAll('thead')[0].findAll('th')]"
   ]
  },
  {
   "cell_type": "code",
   "execution_count": 40,
   "id": "eaff2c65-ef5f-4714-845a-70c414c0d41e",
   "metadata": {},
   "outputs": [
    {
     "data": {
      "text/plain": [
       "['Rank', 'Country', 'GDP(US$MM)']"
      ]
     },
     "execution_count": 40,
     "metadata": {},
     "output_type": "execute_result"
    }
   ],
   "source": [
    "header2"
   ]
  },
  {
   "cell_type": "markdown",
   "id": "77e1d6f8-505c-467d-8da1-18c5db0a4215",
   "metadata": {},
   "source": [
    "### 15. Find the rows from data_tables using findAll()"
   ]
  },
  {
   "cell_type": "code",
   "execution_count": 41,
   "id": "6d6f2257-a45f-4670-8c6d-d4d83651f1e0",
   "metadata": {},
   "outputs": [],
   "source": [
    "# Using findall() yet another time\n",
    "rows2 = data_tables[1][0].findAll('tbody')[0].findAll('tr')[1:]"
   ]
  },
  {
   "cell_type": "markdown",
   "id": "da913fe0-71fa-4353-8554-d00ff6b09547",
   "metadata": {},
   "source": [
    "### 16. Define find_right_text using strip()"
   ]
  },
  {
   "cell_type": "code",
   "execution_count": 62,
   "id": "1e0de4e2-6307-45a6-a41e-13d38e8fd534",
   "metadata": {},
   "outputs": [],
   "source": [
    "# function definition for find_right_text()\n",
    "def find_right_text(i, td):\n",
    "    if i == 0:\n",
    "        return td.getText().strip()\n",
    "    elif i == 1:\n",
    "        return td.getText().strip()\n",
    "    else:\n",
    "        index = td.text.find(\"♠\")\n",
    "        return td.text[index+1:].strip()"
   ]
  },
  {
   "cell_type": "markdown",
   "id": "5336ff2b-d85e-40c6-b29e-c14b334e57eb",
   "metadata": {},
   "source": [
    "### 17. Find the rows from data_rows using find_right_text"
   ]
  },
  {
   "cell_type": "code",
   "execution_count": 63,
   "id": "7f7d18ec-ced1-4d86-b60d-b3579dca74b6",
   "metadata": {},
   "outputs": [],
   "source": [
    "# Using function to extract more data\n",
    "data_rows2 = [[find_right_text(i,td) for i, td in enumerate(tr.findAll('td'))] for tr in rows2]"
   ]
  },
  {
   "cell_type": "markdown",
   "id": "6260fce2-b06a-4d65-b471-e4915aefaa11",
   "metadata": {},
   "source": [
    "### 18. Calculate df2 dataframe"
   ]
  },
  {
   "cell_type": "code",
   "execution_count": 64,
   "id": "2556c6a3-81a9-4ec6-821a-0bbe0472e30a",
   "metadata": {},
   "outputs": [],
   "source": [
    "# Applying similar operation on data frame 2\n",
    "df2 = pd.DataFrame(data_rows2, columns=header2)"
   ]
  },
  {
   "cell_type": "code",
   "execution_count": 65,
   "id": "f00dbb75-28d7-41fd-8a16-ce8211f05016",
   "metadata": {},
   "outputs": [
    {
     "data": {
      "text/html": [
       "<div>\n",
       "<style scoped>\n",
       "    .dataframe tbody tr th:only-of-type {\n",
       "        vertical-align: middle;\n",
       "    }\n",
       "\n",
       "    .dataframe tbody tr th {\n",
       "        vertical-align: top;\n",
       "    }\n",
       "\n",
       "    .dataframe thead th {\n",
       "        text-align: right;\n",
       "    }\n",
       "</style>\n",
       "<table border=\"1\" class=\"dataframe\">\n",
       "  <thead>\n",
       "    <tr style=\"text-align: right;\">\n",
       "      <th></th>\n",
       "      <th>Rank</th>\n",
       "      <th>Country</th>\n",
       "      <th>GDP(US$MM)</th>\n",
       "    </tr>\n",
       "  </thead>\n",
       "  <tbody>\n",
       "    <tr>\n",
       "      <th>0</th>\n",
       "      <td>1</td>\n",
       "      <td>United States</td>\n",
       "      <td>19,390,604</td>\n",
       "    </tr>\n",
       "    <tr>\n",
       "      <th>1</th>\n",
       "      <td></td>\n",
       "      <td>European Union[23]</td>\n",
       "      <td>17,277,698</td>\n",
       "    </tr>\n",
       "    <tr>\n",
       "      <th>2</th>\n",
       "      <td>2</td>\n",
       "      <td>China[n 4]</td>\n",
       "      <td>12,237,700</td>\n",
       "    </tr>\n",
       "    <tr>\n",
       "      <th>3</th>\n",
       "      <td>3</td>\n",
       "      <td>Japan</td>\n",
       "      <td>4,872,137</td>\n",
       "    </tr>\n",
       "    <tr>\n",
       "      <th>4</th>\n",
       "      <td>4</td>\n",
       "      <td>Germany</td>\n",
       "      <td>3,677,439</td>\n",
       "    </tr>\n",
       "  </tbody>\n",
       "</table>\n",
       "</div>"
      ],
      "text/plain": [
       "  Rank             Country  GDP(US$MM)\n",
       "0    1       United States  19,390,604\n",
       "1       European Union[23]  17,277,698\n",
       "2    2          China[n 4]  12,237,700\n",
       "3    3               Japan   4,872,137\n",
       "4    4             Germany   3,677,439"
      ]
     },
     "execution_count": 65,
     "metadata": {},
     "output_type": "execute_result"
    }
   ],
   "source": [
    "# check teh data\n",
    "df2.head()"
   ]
  },
  {
   "cell_type": "markdown",
   "id": "26efab9e-cb15-40f9-9bbe-29d3b67f9e1e",
   "metadata": {},
   "source": [
    "### 19. Perform same operations for the third dataframe"
   ]
  },
  {
   "cell_type": "code",
   "execution_count": 66,
   "id": "ea892de0-8536-4e43-b5c5-ff848a7f8214",
   "metadata": {},
   "outputs": [],
   "source": [
    "# Using strip() to get red of whitespaces and findAll() to find all the tags\n",
    "header3 = [th.getText().strip() for th in data_tables[2][0].findAll('thead')[0].findAll('th')]"
   ]
  },
  {
   "cell_type": "code",
   "execution_count": 67,
   "id": "72117b5c-80ec-4bba-bcfd-36ff0fc5bfd6",
   "metadata": {},
   "outputs": [
    {
     "data": {
      "text/plain": [
       "['Rank', 'Country', 'GDP(US$MM)']"
      ]
     },
     "execution_count": 67,
     "metadata": {},
     "output_type": "execute_result"
    }
   ],
   "source": [
    "# see the data\n",
    "header3"
   ]
  },
  {
   "cell_type": "markdown",
   "id": "618bcee6-e454-429d-ae5e-24d2c4db72cb",
   "metadata": {},
   "source": [
    "### 20. Find rows from data_tables using findAll()"
   ]
  },
  {
   "cell_type": "code",
   "execution_count": 68,
   "id": "5e716997-807f-41da-ade5-2c00379268d4",
   "metadata": {},
   "outputs": [],
   "source": [
    "# Use findAll() to get deeper into the data extract\n",
    "row3 = data_tables[2][0].findAll('tbody')[0].findAll('tr')[1:]"
   ]
  },
  {
   "cell_type": "markdown",
   "id": "365f88bb-a1fa-4a59-b655-bfdc2c68946f",
   "metadata": {},
   "source": [
    "### 21. Find the rows from data_rows3 by using find_right_text"
   ]
  },
  {
   "cell_type": "code",
   "execution_count": 69,
   "id": "d494a8bf-8600-4313-8f1f-b32ee7a860e8",
   "metadata": {},
   "outputs": [],
   "source": [
    "# using find_rigt_text use defined function\n",
    "data_rows3 = [[find_right_text(i, td) for i, td in enumerate(tr.findAll('td'))] for tr in rows2]"
   ]
  },
  {
   "cell_type": "markdown",
   "id": "5f4742ef-f85e-4e64-aa84-8a41287f3279",
   "metadata": {},
   "source": [
    "### 22. Calculate the df3"
   ]
  },
  {
   "cell_type": "code",
   "execution_count": 70,
   "id": "b3a75eb3-b420-4748-b1ef-8bacb80c3c74",
   "metadata": {},
   "outputs": [],
   "source": [
    "# Using similar operations for third data set\n",
    "df3 = pd.DataFrame(data_rows3, columns = header3)"
   ]
  },
  {
   "cell_type": "code",
   "execution_count": 71,
   "id": "ca4b4d45-00ba-44fc-a2e5-476b2b1a1435",
   "metadata": {},
   "outputs": [
    {
     "data": {
      "text/html": [
       "<div>\n",
       "<style scoped>\n",
       "    .dataframe tbody tr th:only-of-type {\n",
       "        vertical-align: middle;\n",
       "    }\n",
       "\n",
       "    .dataframe tbody tr th {\n",
       "        vertical-align: top;\n",
       "    }\n",
       "\n",
       "    .dataframe thead th {\n",
       "        text-align: right;\n",
       "    }\n",
       "</style>\n",
       "<table border=\"1\" class=\"dataframe\">\n",
       "  <thead>\n",
       "    <tr style=\"text-align: right;\">\n",
       "      <th></th>\n",
       "      <th>Rank</th>\n",
       "      <th>Country</th>\n",
       "      <th>GDP(US$MM)</th>\n",
       "    </tr>\n",
       "  </thead>\n",
       "  <tbody>\n",
       "    <tr>\n",
       "      <th>0</th>\n",
       "      <td>1</td>\n",
       "      <td>United States</td>\n",
       "      <td>19,390,604</td>\n",
       "    </tr>\n",
       "    <tr>\n",
       "      <th>1</th>\n",
       "      <td></td>\n",
       "      <td>European Union[23]</td>\n",
       "      <td>17,277,698</td>\n",
       "    </tr>\n",
       "    <tr>\n",
       "      <th>2</th>\n",
       "      <td>2</td>\n",
       "      <td>China[n 4]</td>\n",
       "      <td>12,237,700</td>\n",
       "    </tr>\n",
       "    <tr>\n",
       "      <th>3</th>\n",
       "      <td>3</td>\n",
       "      <td>Japan</td>\n",
       "      <td>4,872,137</td>\n",
       "    </tr>\n",
       "    <tr>\n",
       "      <th>4</th>\n",
       "      <td>4</td>\n",
       "      <td>Germany</td>\n",
       "      <td>3,677,439</td>\n",
       "    </tr>\n",
       "  </tbody>\n",
       "</table>\n",
       "</div>"
      ],
      "text/plain": [
       "  Rank             Country  GDP(US$MM)\n",
       "0    1       United States  19,390,604\n",
       "1       European Union[23]  17,277,698\n",
       "2    2          China[n 4]  12,237,700\n",
       "3    3               Japan   4,872,137\n",
       "4    4             Germany   3,677,439"
      ]
     },
     "execution_count": 71,
     "metadata": {},
     "output_type": "execute_result"
    }
   ],
   "source": [
    "# see the data\n",
    "df3.head()"
   ]
  },
  {
   "cell_type": "markdown",
   "id": "bce48f71-c4a6-4d2c-b107-5d004f2fd186",
   "metadata": {},
   "source": [
    "## Activity 8 - Handling outliers and missing data"
   ]
  },
  {
   "cell_type": "markdown",
   "id": "311ee57d-f656-47d2-aeaf-429867972547",
   "metadata": {},
   "source": [
    "### 1. Load the data"
   ]
  },
  {
   "cell_type": "code",
   "execution_count": 72,
   "id": "37ba508b-1de1-4df9-9734-6299e8c66c30",
   "metadata": {},
   "outputs": [],
   "source": [
    "# get required libraries\n",
    "import pandas as pd\n",
    "import numpy as np\n",
    "import matplotlib.pyplot as plt\n",
    "%matplotlib inline"
   ]
  },
  {
   "cell_type": "markdown",
   "id": "0e8ffb06-d1fd-4f05-8afa-1ba9c9794a00",
   "metadata": {},
   "source": [
    "### 2. Read the csv data file"
   ]
  },
  {
   "cell_type": "code",
   "execution_count": 74,
   "id": "1d9f9717-3e86-4cbf-9c4f-c58f028602be",
   "metadata": {},
   "outputs": [],
   "source": [
    "# reading csv data file\n",
    "df = pd.read_csv(\"visit_data.csv\")"
   ]
  },
  {
   "cell_type": "markdown",
   "id": "ee951c9f-121b-4c3e-84af-796d3a868bb6",
   "metadata": {},
   "source": [
    "### 3. Print the data from dataframe"
   ]
  },
  {
   "cell_type": "code",
   "execution_count": 76,
   "id": "d23d4275-c95a-4537-bcb7-1656d3dc0e3b",
   "metadata": {},
   "outputs": [
    {
     "data": {
      "text/html": [
       "<div>\n",
       "<style scoped>\n",
       "    .dataframe tbody tr th:only-of-type {\n",
       "        vertical-align: middle;\n",
       "    }\n",
       "\n",
       "    .dataframe tbody tr th {\n",
       "        vertical-align: top;\n",
       "    }\n",
       "\n",
       "    .dataframe thead th {\n",
       "        text-align: right;\n",
       "    }\n",
       "</style>\n",
       "<table border=\"1\" class=\"dataframe\">\n",
       "  <thead>\n",
       "    <tr style=\"text-align: right;\">\n",
       "      <th></th>\n",
       "      <th>id</th>\n",
       "      <th>first_name</th>\n",
       "      <th>last_name</th>\n",
       "      <th>email</th>\n",
       "      <th>gender</th>\n",
       "      <th>ip_address</th>\n",
       "      <th>visit</th>\n",
       "    </tr>\n",
       "  </thead>\n",
       "  <tbody>\n",
       "    <tr>\n",
       "      <th>0</th>\n",
       "      <td>1</td>\n",
       "      <td>Sonny</td>\n",
       "      <td>Dahl</td>\n",
       "      <td>sdahl0@mysql.com</td>\n",
       "      <td>Male</td>\n",
       "      <td>135.36.96.183</td>\n",
       "      <td>1225.0</td>\n",
       "    </tr>\n",
       "    <tr>\n",
       "      <th>1</th>\n",
       "      <td>2</td>\n",
       "      <td>NaN</td>\n",
       "      <td>NaN</td>\n",
       "      <td>dhoovart1@hud.gov</td>\n",
       "      <td>NaN</td>\n",
       "      <td>237.165.194.143</td>\n",
       "      <td>919.0</td>\n",
       "    </tr>\n",
       "    <tr>\n",
       "      <th>2</th>\n",
       "      <td>3</td>\n",
       "      <td>Gar</td>\n",
       "      <td>Armal</td>\n",
       "      <td>garmal2@technorati.com</td>\n",
       "      <td>NaN</td>\n",
       "      <td>166.43.137.224</td>\n",
       "      <td>271.0</td>\n",
       "    </tr>\n",
       "    <tr>\n",
       "      <th>3</th>\n",
       "      <td>4</td>\n",
       "      <td>Chiarra</td>\n",
       "      <td>Nulty</td>\n",
       "      <td>cnulty3@newyorker.com</td>\n",
       "      <td>NaN</td>\n",
       "      <td>139.98.137.108</td>\n",
       "      <td>1002.0</td>\n",
       "    </tr>\n",
       "    <tr>\n",
       "      <th>4</th>\n",
       "      <td>5</td>\n",
       "      <td>NaN</td>\n",
       "      <td>NaN</td>\n",
       "      <td>sleaver4@elegantthemes.com</td>\n",
       "      <td>NaN</td>\n",
       "      <td>46.117.117.27</td>\n",
       "      <td>2434.0</td>\n",
       "    </tr>\n",
       "  </tbody>\n",
       "</table>\n",
       "</div>"
      ],
      "text/plain": [
       "   id first_name last_name                       email gender  \\\n",
       "0   1      Sonny      Dahl            sdahl0@mysql.com   Male   \n",
       "1   2        NaN       NaN           dhoovart1@hud.gov    NaN   \n",
       "2   3        Gar     Armal      garmal2@technorati.com    NaN   \n",
       "3   4    Chiarra     Nulty       cnulty3@newyorker.com    NaN   \n",
       "4   5        NaN       NaN  sleaver4@elegantthemes.com    NaN   \n",
       "\n",
       "        ip_address   visit  \n",
       "0    135.36.96.183  1225.0  \n",
       "1  237.165.194.143   919.0  \n",
       "2   166.43.137.224   271.0  \n",
       "3   139.98.137.108  1002.0  \n",
       "4    46.117.117.27  2434.0  "
      ]
     },
     "execution_count": 76,
     "metadata": {},
     "output_type": "execute_result"
    }
   ],
   "source": [
    "# check data\n",
    "df.head()"
   ]
  },
  {
   "cell_type": "markdown",
   "id": "7bfed95c-c9c3-4ef8-a32f-cb51c0dc385b",
   "metadata": {},
   "source": [
    "### 4. Check the duplicates"
   ]
  },
  {
   "cell_type": "code",
   "execution_count": 78,
   "id": "5a79630a-c809-486a-b897-bd65160a0940",
   "metadata": {},
   "outputs": [
    {
     "name": "stdout",
     "output_type": "stream",
     "text": [
      "First name is duplicated - True\n"
     ]
    }
   ],
   "source": [
    "# check duplicates in the data\n",
    "print(\"First name is duplicated - {}\".format(any(df.first_name.duplicated())))"
   ]
  },
  {
   "cell_type": "code",
   "execution_count": 80,
   "id": "fb65981b-be7c-4f2c-910a-8fdfeb5254cc",
   "metadata": {},
   "outputs": [
    {
     "name": "stdout",
     "output_type": "stream",
     "text": [
      "Last name is duplicated - True\n"
     ]
    }
   ],
   "source": [
    "print(\"Last name is duplicated - {}\".format(any(df.last_name.duplicated())))"
   ]
  },
  {
   "cell_type": "code",
   "execution_count": 81,
   "id": "c735821a-53cd-4dbe-b3a6-de4c2e8dfdab",
   "metadata": {},
   "outputs": [
    {
     "name": "stdout",
     "output_type": "stream",
     "text": [
      "Email is duplicated - False\n"
     ]
    }
   ],
   "source": [
    "print(\"Email is duplicated - {}\".format(any(df.email.duplicated())))"
   ]
  },
  {
   "cell_type": "markdown",
   "id": "f05a18a0-1bf6-475e-83dc-f2ecd83ddf47",
   "metadata": {},
   "source": [
    "### 5. Check if any essential column contains NaN"
   ]
  },
  {
   "cell_type": "code",
   "execution_count": 82,
   "id": "9816f641-6474-4902-8864-18678cec883e",
   "metadata": {},
   "outputs": [
    {
     "name": "stdout",
     "output_type": "stream",
     "text": [
      "The column Email contains NaN - False \n"
     ]
    }
   ],
   "source": [
    "# check if essential column contains NaN\n",
    "print(\"The column Email contains NaN - %r \" % df.email.isnull().values.any())"
   ]
  },
  {
   "cell_type": "code",
   "execution_count": 83,
   "id": "2586ed4e-fd76-4244-b689-e9ea5b4629f4",
   "metadata": {},
   "outputs": [
    {
     "name": "stdout",
     "output_type": "stream",
     "text": [
      "The column IP Address contains NaN - False \n"
     ]
    }
   ],
   "source": [
    "print(\"The column IP Address contains NaN - %r \" % df.ip_address.isnull().values.any())"
   ]
  },
  {
   "cell_type": "code",
   "execution_count": 84,
   "id": "8f306d9a-542d-42f4-8ce0-21f681ef3675",
   "metadata": {},
   "outputs": [
    {
     "name": "stdout",
     "output_type": "stream",
     "text": [
      "The column Visit contains NaN - True \n"
     ]
    }
   ],
   "source": [
    "print(\"The column Visit contains NaN - %r \" % df.visit.isnull().values.any())"
   ]
  },
  {
   "cell_type": "markdown",
   "id": "98bc0b2c-f4fd-42a7-ab29-519cd3897c27",
   "metadata": {},
   "source": [
    "### 6. Get rid of outliers"
   ]
  },
  {
   "cell_type": "code",
   "execution_count": 85,
   "id": "8e7b74cb-4eb2-4055-9023-427d9340e079",
   "metadata": {},
   "outputs": [],
   "source": [
    "# restore the previous size of the data\n",
    "size_prev = df.shape"
   ]
  },
  {
   "cell_type": "code",
   "execution_count": 86,
   "id": "4a0c8cdd-57fa-476b-975f-437855cb18af",
   "metadata": {},
   "outputs": [],
   "source": [
    "# Get rid of records with null visits\n",
    "df = df[np.isfinite(df['visit'])]"
   ]
  },
  {
   "cell_type": "code",
   "execution_count": 87,
   "id": "afe423f4-82a1-4840-b909-8615f5bd9d2b",
   "metadata": {},
   "outputs": [],
   "source": [
    "# set the after size of the data frame\n",
    "size_after = df.shape"
   ]
  },
  {
   "cell_type": "markdown",
   "id": "daa7fbf8-8ed8-41b5-82a7-60f5291ba296",
   "metadata": {},
   "source": [
    "### 7. Report the size difference"
   ]
  },
  {
   "cell_type": "code",
   "execution_count": 88,
   "id": "b5de9de7-61ca-4e57-9f77-a76e74fd0aa8",
   "metadata": {},
   "outputs": [
    {
     "name": "stdout",
     "output_type": "stream",
     "text": [
      "The size of the previous data was - 1000 rows and the size of the new one is - 974 rows\n"
     ]
    }
   ],
   "source": [
    "# report the data frame size difference before and after the outlier records removal\n",
    "print(\"The size of the previous data was - {prev[0]} rows and the size of the new one is - {after[0]} rows\".format(prev=size_prev, after=size_after))"
   ]
  },
  {
   "cell_type": "markdown",
   "id": "ea58e5cf-a7da-4dbc-a441-fde146a792fb",
   "metadata": {},
   "source": [
    "### 8. Plot a boxplot to find if the data has outliers"
   ]
  },
  {
   "cell_type": "code",
   "execution_count": 89,
   "id": "4d1000a9-8a3d-4ed9-a840-e7998c0bb0fb",
   "metadata": {},
   "outputs": [
    {
     "data": {
      "text/plain": [
       "{'whiskers': [<matplotlib.lines.Line2D at 0x7fe1f0e157c0>,\n",
       "  <matplotlib.lines.Line2D at 0x7fe1f0e15a90>],\n",
       " 'caps': [<matplotlib.lines.Line2D at 0x7fe1f0e15d60>,\n",
       "  <matplotlib.lines.Line2D at 0x7fe208e6f070>],\n",
       " 'boxes': [<matplotlib.lines.Line2D at 0x7fe1f0e154f0>],\n",
       " 'medians': [<matplotlib.lines.Line2D at 0x7fe208e6f340>],\n",
       " 'fliers': [<matplotlib.lines.Line2D at 0x7fe208e6f610>],\n",
       " 'means': []}"
      ]
     },
     "execution_count": 89,
     "metadata": {},
     "output_type": "execute_result"
    },
    {
     "data": {
      "image/png": "[encoded data removed]",
      "text/plain": [
       "<Figure size 640x480 with 1 Axes>"
      ]
     },
     "metadata": {},
     "output_type": "display_data"
    }
   ],
   "source": [
    "# plot box plots \n",
    "plt.boxplot(df.visit, notch=True)"
   ]
  },
  {
   "cell_type": "code",
   "execution_count": 90,
   "id": "9ba5846e-2780-48eb-af18-402f8811bd77",
   "metadata": {},
   "outputs": [],
   "source": [
    "# Observation - Data in visits column seems to be concentrated between ~700 and ~2300 \n",
    "# and thus anything outside this range can be considered outliers"
   ]
  },
  {
   "cell_type": "markdown",
   "id": "fc68cf6e-0f79-4e8b-9b76-56c6f10f6c62",
   "metadata": {},
   "source": [
    "### 9. Get rid of values beyond 2900 and below 100 - these are outliers for us"
   ]
  },
  {
   "cell_type": "code",
   "execution_count": 92,
   "id": "bc8e7642-7182-4fa1-a6ce-5659c5b7346f",
   "metadata": {},
   "outputs": [],
   "source": [
    "# get rid of the outliers\n",
    "df1 = df[(df['visit'] <= 2900) & (df['visit'] >= 100)]"
   ]
  },
  {
   "cell_type": "code",
   "execution_count": 94,
   "id": "71f04d6f-d125-4b15-854b-3352c680fd19",
   "metadata": {},
   "outputs": [
    {
     "name": "stdout",
     "output_type": "stream",
     "text": [
      "After getting rid of outliers the new size of the data is - 923\n"
     ]
    }
   ],
   "source": [
    "# check the size of the data frame after getting rid of outliers\n",
    "print(\"After getting rid of outliers the new size of the data is - {}\".format(*df1.shape))"
   ]
  },
  {
   "cell_type": "markdown",
   "id": "67abb00e-4b97-4a64-83d9-9860b2717147",
   "metadata": {},
   "source": [
    "# Operations with Sqllite database"
   ]
  },
  {
   "cell_type": "code",
   "execution_count": 2,
   "id": "17e11560-b127-4e6a-88c3-9ae3989ff4c3",
   "metadata": {},
   "outputs": [],
   "source": [
    "# importing the sqlite3\n",
    "import sqlite3"
   ]
  },
  {
   "cell_type": "code",
   "execution_count": 25,
   "id": "6118c4e7-e3f6-473d-b8b1-a1b001ad171e",
   "metadata": {},
   "outputs": [
    {
     "name": "stdout",
     "output_type": "stream",
     "text": [
      "Opened database successfully\n"
     ]
    }
   ],
   "source": [
    "# create a table with following columns - Name, Address, City, State, Zip, Phone Number\n",
    "# open a connection\n",
    "conn = sqlite3.connect('javatpoint.db')  \n",
    "print(\"Opened database successfully\")"
   ]
  },
  {
   "cell_type": "code",
   "execution_count": 26,
   "id": "4948998c-e812-4b48-8fa6-33437aa26c5e",
   "metadata": {},
   "outputs": [
    {
     "name": "stdout",
     "output_type": "stream",
     "text": [
      "Table created successfully\n"
     ]
    }
   ],
   "source": [
    "# Execute the create table statement\n",
    "conn.execute('CREATE TABLE Person (ID INT PRIMARY KEY NOT NULL, NAME TEXT NOT NULL, ADDRESS CHAR(50), CITY CHAR(20), STATE CHAR(2), ZIP INT, PHONE_NUMBER CHAR(15))')\n",
    "print(\"Table created successfully\")"
   ]
  },
  {
   "cell_type": "code",
   "execution_count": 27,
   "id": "73838888-7ab0-400a-88fc-e71053fe106b",
   "metadata": {},
   "outputs": [
    {
     "name": "stdout",
     "output_type": "stream",
     "text": [
      "Row inserted successfully\n"
     ]
    }
   ],
   "source": [
    "# Insert data into the table\n",
    "conn.execute(\"INSERT INTO Person (ID,NAME,ADDRESS,CITY,STATE,ZIP,PHONE_NUMBER) VALUES (1, 'Manish', '21 S ST', 'PHOENIX', 'AZ', '85050', '420-345-6756')\")\n",
    "print(\"Row inserted successfully\")"
   ]
  },
  {
   "cell_type": "code",
   "execution_count": 28,
   "id": "25f315c2-5409-496d-b070-c5a1d6c377e8",
   "metadata": {},
   "outputs": [
    {
     "name": "stdout",
     "output_type": "stream",
     "text": [
      "Row inserted successfully\n",
      "Row inserted successfully\n",
      "Row inserted successfully\n",
      "Row inserted successfully\n",
      "Row inserted successfully\n",
      "Row inserted successfully\n",
      "Row inserted successfully\n",
      "Row inserted successfully\n",
      "Row inserted successfully\n"
     ]
    }
   ],
   "source": [
    "# Insert 9 more records per requirement\n",
    "conn.execute(\"INSERT INTO Person (ID,NAME,ADDRESS,CITY,STATE,ZIP,PHONE_NUMBER) VALUES (2, 'Cathy', 'Snow Blvd', 'CHICAGO', 'IL', '34076', '456-467-4878')\")\n",
    "print(\"Row inserted successfully\")\n",
    "conn.execute(\"INSERT INTO Person (ID,NAME,ADDRESS,CITY,STATE,ZIP,PHONE_NUMBER) VALUES (3, 'Mat', 'Fast Lane', 'NEW YORK', 'NY', '12035', '540-647-3768')\")\n",
    "print(\"Row inserted successfully\")\n",
    "conn.execute(\"INSERT INTO Person (ID,NAME,ADDRESS,CITY,STATE,ZIP,PHONE_NUMBER) VALUES (4, 'Bill', 'Trance St', 'MIAMI', 'FL', '73877', '787-988-5453')\")\n",
    "print(\"Row inserted successfully\")\n",
    "conn.execute(\"INSERT INTO Person (ID,NAME,ADDRESS,CITY,STATE,ZIP,PHONE_NUMBER) VALUES (5, 'Ahsan', 'Rainy St', 'SEATTLE', 'WA', '89799', '344-445-6688')\")\n",
    "print(\"Row inserted successfully\")\n",
    "conn.execute(\"INSERT INTO Person (ID,NAME,ADDRESS,CITY,STATE,ZIP,PHONE_NUMBER) VALUES (6, 'KAREENA', 'W MAIN ST', 'LOS ANGELES', 'CA', '90980', '788-565-6798')\")\n",
    "print(\"Row inserted successfully\")\n",
    "conn.execute(\"INSERT INTO Person (ID,NAME,ADDRESS,CITY,STATE,ZIP,PHONE_NUMBER) VALUES (7, 'ELISE', '200 HOLLYWOOD LN', 'LOS ANGELES', 'CA', '95567', '785-788-7878')\")\n",
    "print(\"Row inserted successfully\")\n",
    "conn.execute(\"INSERT INTO Person (ID,NAME,ADDRESS,CITY,STATE,ZIP,PHONE_NUMBER) VALUES (8, 'ARIANA', '320 S ROSE LN', 'ATLANTA', 'GA', '76677', '344-788-9886')\")\n",
    "print(\"Row inserted successfully\")\n",
    "conn.execute(\"INSERT INTO Person (ID,NAME,ADDRESS,CITY,STATE,ZIP,PHONE_NUMBER) VALUES (9, 'JOSEPH', '23 E DUREY Blvd', 'IDAHO FALLS', 'ID', '26678', '680-787-9799')\")\n",
    "print(\"Row inserted successfully\")\n",
    "conn.execute(\"INSERT INTO Person (ID,NAME,ADDRESS,CITY,STATE,ZIP,PHONE_NUMBER) VALUES (10, 'TOM', '43 BROOMFIELD', 'BLOOMINGTON', 'NM', '66777', '556-788-3568')\")\n",
    "print(\"Row inserted successfully\")\n"
   ]
  },
  {
   "cell_type": "code",
   "execution_count": 29,
   "id": "062975e4-ce27-4b06-a1da-971e9298d9c0",
   "metadata": {},
   "outputs": [
    {
     "name": "stdout",
     "output_type": "stream",
     "text": [
      "ID =  1\n",
      "NAME =  Manish\n",
      "ADDRESS =  21 S ST\n",
      "CITY =  PHOENIX\n",
      "STATE =  AZ\n",
      "ZIP =  85050\n",
      "PHONE_NUMBER =  420-345-6756\n",
      "ID =  2\n",
      "NAME =  Cathy\n",
      "ADDRESS =  Snow Blvd\n",
      "CITY =  CHICAGO\n",
      "STATE =  IL\n",
      "ZIP =  34076\n",
      "PHONE_NUMBER =  456-467-4878\n",
      "ID =  3\n",
      "NAME =  Mat\n",
      "ADDRESS =  Fast Lane\n",
      "CITY =  NEW YORK\n",
      "STATE =  NY\n",
      "ZIP =  12035\n",
      "PHONE_NUMBER =  540-647-3768\n",
      "ID =  4\n",
      "NAME =  Bill\n",
      "ADDRESS =  Trance St\n",
      "CITY =  MIAMI\n",
      "STATE =  FL\n",
      "ZIP =  73877\n",
      "PHONE_NUMBER =  787-988-5453\n",
      "ID =  5\n",
      "NAME =  Ahsan\n",
      "ADDRESS =  Rainy St\n",
      "CITY =  SEATTLE\n",
      "STATE =  WA\n",
      "ZIP =  89799\n",
      "PHONE_NUMBER =  344-445-6688\n",
      "ID =  6\n",
      "NAME =  KAREENA\n",
      "ADDRESS =  W MAIN ST\n",
      "CITY =  LOS ANGELES\n",
      "STATE =  CA\n",
      "ZIP =  90980\n",
      "PHONE_NUMBER =  788-565-6798\n",
      "ID =  7\n",
      "NAME =  ELISE\n",
      "ADDRESS =  200 HOLLYWOOD LN\n",
      "CITY =  LOS ANGELES\n",
      "STATE =  CA\n",
      "ZIP =  95567\n",
      "PHONE_NUMBER =  785-788-7878\n",
      "ID =  8\n",
      "NAME =  ARIANA\n",
      "ADDRESS =  320 S ROSE LN\n",
      "CITY =  ATLANTA\n",
      "STATE =  GA\n",
      "ZIP =  76677\n",
      "PHONE_NUMBER =  344-788-9886\n",
      "ID =  9\n",
      "NAME =  JOSEPH\n",
      "ADDRESS =  23 E DUREY Blvd\n",
      "CITY =  IDAHO FALLS\n",
      "STATE =  ID\n",
      "ZIP =  26678\n",
      "PHONE_NUMBER =  680-787-9799\n",
      "ID =  10\n",
      "NAME =  TOM\n",
      "ADDRESS =  43 BROOMFIELD\n",
      "CITY =  BLOOMINGTON\n",
      "STATE =  NM\n",
      "ZIP =  66777\n",
      "PHONE_NUMBER =  556-788-3568\n"
     ]
    }
   ],
   "source": [
    "# Select data to check\n",
    "data = conn.execute(\"select * from Person\")\n",
    "\n",
    "# Display selected data\n",
    "for row in data:\n",
    "    print(\"ID = \", row[0]) \n",
    "    print(\"NAME = \", row[1])  \n",
    "    print(\"ADDRESS = \", row[2]) \n",
    "    print(\"CITY = \", row[3])\n",
    "    print(\"STATE = \", row[4])\n",
    "    print(\"ZIP = \", row[5])\n",
    "    print(\"PHONE_NUMBER = \", row[6]), \"\\n\""
   ]
  },
  {
   "cell_type": "code",
   "execution_count": 30,
   "id": "d2340035-133d-4aa5-a236-72219b1565c0",
   "metadata": {},
   "outputs": [],
   "source": [
    "# Delete data to have clean slate and show output - this is for test only\n",
    "# conn.close()\n",
    "# conn = sqlite3.connect('javatpoint.db')  \n",
    "# conn.execute(\"drop table Person\")"
   ]
  }
 ],
 "metadata": {
  "kernelspec": {
   "display_name": "Python 3 (ipykernel)",
   "language": "python",
   "name": "python3"
  },
  "language_info": {
   "codemirror_mode": {
    "name": "ipython",
    "version": 3
   },
   "file_extension": ".py",
   "mimetype": "text/x-python",
   "name": "python",
   "nbconvert_exporter": "python",
   "pygments_lexer": "ipython3",
   "version": "3.9.13"
  }
 },
 "nbformat": 4,
 "nbformat_minor": 5
}
