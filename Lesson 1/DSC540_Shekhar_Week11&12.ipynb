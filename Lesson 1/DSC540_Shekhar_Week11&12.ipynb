{
 "cells": [
  {
   "cell_type": "code",
   "execution_count": 1,
   "id": "235089df-2814-4ef8-83b4-9983f594cda7",
   "metadata": {},
   "outputs": [],
   "source": [
    "###################################################################################\n",
    "# Course : Data Preparation\n",
    "# Course code: DSC540\n",
    "# Weeks: 11 and 12\n",
    "# Script name : DSC540_Shekhar_Week11&12.ipynb\n",
    "# Created Date : May 11th 2023\n",
    "# Created By : Manish Shekhar\n",
    "###################################################################################"
   ]
  },
  {
   "cell_type": "markdown",
   "id": "9215f877-3034-4ac4-8191-82e73a6c82e9",
   "metadata": {},
   "source": [
    "# Activity 11 : Retrieving data correctly from databases"
   ]
  },
  {
   "cell_type": "markdown",
   "id": "c2c1a8a9-e5e3-43a5-bf87-4500af6659bd",
   "metadata": {},
   "source": [
    "### 1. Connect to petsDB"
   ]
  },
  {
   "cell_type": "code",
   "execution_count": 5,
   "id": "d49221cd-cbe9-4825-b405-744dffb6ab9b",
   "metadata": {},
   "outputs": [],
   "source": [
    "# import libraries\n",
    "import sqlite3"
   ]
  },
  {
   "cell_type": "code",
   "execution_count": 6,
   "id": "df0a3c87-c257-4bcb-9e37-c2028c5e5c45",
   "metadata": {},
   "outputs": [],
   "source": [
    "# create connection object \n",
    "conn = sqlite3.connect(\"petsdb\")"
   ]
  },
  {
   "cell_type": "markdown",
   "id": "141e7127-e675-4375-aa35-50572f0d5b86",
   "metadata": {},
   "source": [
    "### 2. Write a function to check if connection was successful"
   ]
  },
  {
   "cell_type": "code",
   "execution_count": 7,
   "id": "825c33af-5ea0-434e-80e2-a48c2ab029fe",
   "metadata": {},
   "outputs": [
    {
     "name": "stdout",
     "output_type": "stream",
     "text": [
      "True\n"
     ]
    }
   ],
   "source": [
    "# function to make sure connection is successful\n",
    "def is_opened(conn):\n",
    "    try:\n",
    "        conn.execute(\"select * from persons limit 1\")\n",
    "        return True\n",
    "    except sqlite3.ProgrammingError as e:\n",
    "        print(\"Connection closed {}\".format(e))\n",
    "        return False\n",
    "\n",
    "# call the function print the return\n",
    "print(is_opened(conn))\n",
    "        "
   ]
  },
  {
   "cell_type": "markdown",
   "id": "897e3c27-367e-4179-8418-019bdc74f17e",
   "metadata": {},
   "source": [
    "### 3. Close the connection"
   ]
  },
  {
   "cell_type": "code",
   "execution_count": 8,
   "id": "f647f4cd-f7cd-4d7c-ab56-1529593c80c0",
   "metadata": {},
   "outputs": [],
   "source": [
    "conn.close()"
   ]
  },
  {
   "cell_type": "markdown",
   "id": "9f210e37-89de-4f6c-8f97-0d14cc847ccd",
   "metadata": {},
   "source": [
    "### 4. Check whether the connection is open or close"
   ]
  },
  {
   "cell_type": "code",
   "execution_count": 9,
   "id": "96a60378-21de-4ffc-89b7-ee2bf6931cb1",
   "metadata": {},
   "outputs": [
    {
     "name": "stdout",
     "output_type": "stream",
     "text": [
      "Connection closed Cannot operate on a closed database.\n",
      "False\n"
     ]
    }
   ],
   "source": [
    "print(is_opened(conn))"
   ]
  },
  {
   "cell_type": "markdown",
   "id": "6f3e1e2a-3993-4441-a573-4f3bc1087b71",
   "metadata": {},
   "source": [
    "### 5. Find out different age groups in the persons database"
   ]
  },
  {
   "cell_type": "code",
   "execution_count": 10,
   "id": "21aee0c9-eab8-46b2-b44d-2ddef8b75e96",
   "metadata": {},
   "outputs": [],
   "source": [
    "# create connection object\n",
    "conn = sqlite3.connect(\"petsdb\")"
   ]
  },
  {
   "cell_type": "code",
   "execution_count": 11,
   "id": "f6c0f76b-065a-4104-b64c-34b65b05b243",
   "metadata": {},
   "outputs": [],
   "source": [
    "# create cursor\n",
    "c = conn.cursor()"
   ]
  },
  {
   "cell_type": "markdown",
   "id": "532747db-6dd7-403c-9591-64c91a022aba",
   "metadata": {},
   "source": [
    "### 6. Loop throigh cursor and execute"
   ]
  },
  {
   "cell_type": "code",
   "execution_count": 13,
   "id": "4aff4ef6-1819-4903-b8d1-cb6b0641edab",
   "metadata": {},
   "outputs": [
    {
     "name": "stdout",
     "output_type": "stream",
     "text": [
      "We have 2 people of age 5\n",
      "We have 1 people of age 6\n",
      "We have 1 people of age 7\n",
      "We have 3 people of age 8\n",
      "We have 1 people of age 9\n",
      "We have 2 people of age 11\n",
      "We have 3 people of age 12\n",
      "We have 1 people of age 13\n",
      "We have 4 people of age 14\n",
      "We have 2 people of age 16\n",
      "We have 2 people of age 17\n",
      "We have 3 people of age 18\n",
      "We have 1 people of age 19\n",
      "We have 3 people of age 22\n",
      "We have 2 people of age 23\n",
      "We have 3 people of age 24\n",
      "We have 2 people of age 25\n",
      "We have 1 people of age 27\n",
      "We have 1 people of age 30\n",
      "We have 3 people of age 31\n",
      "We have 1 people of age 32\n",
      "We have 1 people of age 33\n",
      "We have 2 people of age 34\n",
      "We have 3 people of age 35\n",
      "We have 3 people of age 36\n",
      "We have 1 people of age 37\n",
      "We have 2 people of age 39\n",
      "We have 1 people of age 40\n",
      "We have 1 people of age 42\n",
      "We have 2 people of age 44\n",
      "We have 2 people of age 48\n",
      "We have 1 people of age 49\n",
      "We have 1 people of age 50\n",
      "We have 2 people of age 51\n",
      "We have 2 people of age 52\n",
      "We have 2 people of age 53\n",
      "We have 2 people of age 54\n",
      "We have 1 people of age 58\n",
      "We have 1 people of age 59\n",
      "We have 1 people of age 60\n",
      "We have 1 people of age 61\n",
      "We have 2 people of age 62\n",
      "We have 1 people of age 63\n",
      "We have 2 people of age 65\n",
      "We have 2 people of age 66\n",
      "We have 1 people of age 67\n",
      "We have 3 people of age 68\n",
      "We have 1 people of age 69\n",
      "We have 1 people of age 70\n",
      "We have 4 people of age 71\n",
      "We have 1 people of age 72\n",
      "We have 5 people of age 73\n",
      "We have 3 people of age 74\n"
     ]
    }
   ],
   "source": [
    "# Execute following command\n",
    "for ppl, age in c.execute(\"select count(*), age from persons group by age\"):\n",
    "    print(\"We have {} people of age {}\".format(ppl,age))"
   ]
  },
  {
   "cell_type": "markdown",
   "id": "f8905ca7-1fdd-4ea3-8d00-d59cddfd61c8",
   "metadata": {},
   "source": [
    "### 7. Find out which age group has highest number of people"
   ]
  },
  {
   "cell_type": "code",
   "execution_count": 16,
   "id": "2849e341-5086-4457-8e75-c9cb0c0cdeec",
   "metadata": {},
   "outputs": [
    {
     "name": "stdout",
     "output_type": "stream",
     "text": [
      "Highest number of people is 5 and came from 73 age group\n"
     ]
    }
   ],
   "source": [
    "# get age group having highest number of people\n",
    "for ppl, age in c.execute(\"select count(*), age from persons group by age order by count(*) desc\"):\n",
    "    print(\"Highest number of people is {} and came from {} age group\".format(ppl, age))\n",
    "    break"
   ]
  },
  {
   "cell_type": "markdown",
   "id": "b7df9178-90d5-4789-b3bf-f750cbd76556",
   "metadata": {},
   "source": [
    "### 8. Find out how many people do not have a full name (last name is blank/null)"
   ]
  },
  {
   "cell_type": "code",
   "execution_count": 20,
   "id": "90b7df8b-59f9-4c68-9b78-1cd1f47a15be",
   "metadata": {},
   "outputs": [
    {
     "name": "stdout",
     "output_type": "stream",
     "text": [
      "(60,)\n"
     ]
    }
   ],
   "source": [
    "# Get the number of people who have null or blank in last name\n",
    "res = c.execute(\"select count(*) from persons where last_name is null or trim(last_name) == ''\")\n",
    "\n",
    "for row in res:\n",
    "    print(row)"
   ]
  },
  {
   "cell_type": "markdown",
   "id": "424fc35d-021d-4083-a26c-3bcbefe273fa",
   "metadata": {},
   "source": [
    "### 9. How many people have more than one pet"
   ]
  },
  {
   "cell_type": "code",
   "execution_count": 24,
   "id": "a19684c3-6e32-4a77-ac3b-f10d3ddce8f6",
   "metadata": {},
   "outputs": [
    {
     "name": "stdout",
     "output_type": "stream",
     "text": [
      "43 people have more than one pet\n"
     ]
    }
   ],
   "source": [
    "# Get total number of owners who had more than one pet\n",
    "res = c.execute(\"select count(*) from (select count(owner_id) from pets group by owner_id having count(owner_id) > 1)\")\n",
    "\n",
    "for row in res:\n",
    "    print(\"{} people have more than one pet\".format(row[0]))"
   ]
  },
  {
   "cell_type": "markdown",
   "id": "7c278c0d-f802-44d4-a025-5543e53ea5a7",
   "metadata": {},
   "source": [
    "### 10. How many pets have received treatment"
   ]
  },
  {
   "cell_type": "code",
   "execution_count": 25,
   "id": "c92a3988-72e4-4034-8c5d-1fec533347ad",
   "metadata": {},
   "outputs": [
    {
     "name": "stdout",
     "output_type": "stream",
     "text": [
      "(36,)\n"
     ]
    }
   ],
   "source": [
    "# Get total number of pets who received treatment\n",
    "res = c.execute(\"select count(*) from pets where treatment_done = 1\")\n",
    "\n",
    "for row in res:\n",
    "    print(row)"
   ]
  },
  {
   "cell_type": "markdown",
   "id": "e76a4d9d-c8b3-4e42-adbe-7717241529cf",
   "metadata": {},
   "source": [
    "### 11. To find out how many pets have received treatment where type of pet is known"
   ]
  },
  {
   "cell_type": "code",
   "execution_count": 27,
   "id": "8fa7d193-38e7-42c0-b6e9-b1e6f3083f38",
   "metadata": {},
   "outputs": [
    {
     "name": "stdout",
     "output_type": "stream",
     "text": [
      "(16,)\n"
     ]
    }
   ],
   "source": [
    "# To see number of pets that received treatment with known pet type\n",
    "res = c.execute(\"select count(*) from pets where treatment_done = 1 and pet_type is not null\")\n",
    "\n",
    "for row in res:\n",
    "    print(row)"
   ]
  },
  {
   "cell_type": "markdown",
   "id": "68332236-84d8-4696-a23b-a9a37bade37e",
   "metadata": {},
   "source": [
    "### 12. How many pets are from city called \"east port\""
   ]
  },
  {
   "cell_type": "code",
   "execution_count": 28,
   "id": "9ce891a9-e916-472f-9e3a-8533aecbda4b",
   "metadata": {},
   "outputs": [
    {
     "name": "stdout",
     "output_type": "stream",
     "text": [
      "(49,)\n"
     ]
    }
   ],
   "source": [
    "# To know how many pets are from city called \"east port\"\n",
    "res = c.execute(\"select count(*) from pets join persons on pets.owner_id = persons.id where persons.city = 'east port'\")\n",
    "\n",
    "for row in res:\n",
    "    print(row)"
   ]
  },
  {
   "cell_type": "markdown",
   "id": "cb8f0263-b094-4e68-98bf-45effa2184fe",
   "metadata": {},
   "source": [
    "### 13. How many pets are from city 'east port' and received treatment"
   ]
  },
  {
   "cell_type": "code",
   "execution_count": 29,
   "id": "ddee8a4c-e9cf-4153-b035-041f920b0e2a",
   "metadata": {},
   "outputs": [
    {
     "name": "stdout",
     "output_type": "stream",
     "text": [
      "(11,)\n"
     ]
    }
   ],
   "source": [
    "# how to many pets are from 'east port' and received treatment\n",
    "res = c.execute(\"select count(*) from pets join persons on pets.owner_id = persons.id where persons.city = 'east port' and pets.treatment_done = 1\")\n",
    "\n",
    "for row in res:\n",
    "    print(row)"
   ]
  }
 ],
 "metadata": {
  "kernelspec": {
   "display_name": "Python 3 (ipykernel)",
   "language": "python",
   "name": "python3"
  },
  "language_info": {
   "codemirror_mode": {
    "name": "ipython",
    "version": 3
   },
   "file_extension": ".py",
   "mimetype": "text/x-python",
   "name": "python",
   "nbconvert_exporter": "python",
   "pygments_lexer": "ipython3",
   "version": "3.9.13"
  }
 },
 "nbformat": 4,
 "nbformat_minor": 5
}
